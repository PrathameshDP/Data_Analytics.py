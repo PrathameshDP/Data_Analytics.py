{
  "cells": [
    {
      "cell_type": "markdown",
      "metadata": {
        "id": "view-in-github",
        "colab_type": "text"
      },
      "source": [
        "<a href=\"https://colab.research.google.com/github/PrathameshDP/MTSE-Certificate/blob/main/Code.ipynb\" target=\"_parent\"><img src=\"https://colab.research.google.com/assets/colab-badge.svg\" alt=\"Open In Colab\"/></a>"
      ]
    },
    {
      "cell_type": "code",
      "execution_count": 2,
      "id": "1821a526",
      "metadata": {
        "id": "1821a526"
      },
      "outputs": [],
      "source": [
        "import numpy as np\n",
        "import pandas as pd\n",
        "import matplotlib.pyplot as plt\n",
        "from sklearn.linear_model import LinearRegression\n",
        "from sklearn.impute import SimpleImputer"
      ]
    },
    {
      "cell_type": "markdown",
      "id": "32c012d8",
      "metadata": {
        "id": "32c012d8"
      },
      "source": [
        "Defining train and test"
      ]
    },
    {
      "cell_type": "code",
      "execution_count": 5,
      "id": "8f8ede4b",
      "metadata": {
        "id": "8f8ede4b"
      },
      "outputs": [],
      "source": [
        "train = pd.read_csv('train.csv')\n",
        "test = pd.read_csv('test.csv')"
      ]
    },
    {
      "cell_type": "code",
      "execution_count": 6,
      "id": "92c0fc18",
      "metadata": {
        "id": "92c0fc18",
        "outputId": "9edd7efa-008c-49e8-8b94-c10234a337d9",
        "colab": {
          "base_uri": "https://localhost:8080/"
        }
      },
      "outputs": [
        {
          "output_type": "stream",
          "name": "stdout",
          "text": [
            "<class 'pandas.core.frame.DataFrame'>\n",
            "RangeIndex: 700 entries, 0 to 699\n",
            "Data columns (total 2 columns):\n",
            " #   Column  Non-Null Count  Dtype  \n",
            "---  ------  --------------  -----  \n",
            " 0   x       700 non-null    float64\n",
            " 1   y       699 non-null    float64\n",
            "dtypes: float64(2)\n",
            "memory usage: 11.1 KB\n"
          ]
        }
      ],
      "source": [
        "train.info()"
      ]
    },
    {
      "cell_type": "code",
      "execution_count": 7,
      "id": "3c4e0261",
      "metadata": {
        "id": "3c4e0261",
        "outputId": "7f0f0d52-136f-44f6-ece7-ed0aef18b2b2",
        "colab": {
          "base_uri": "https://localhost:8080/"
        }
      },
      "outputs": [
        {
          "output_type": "stream",
          "name": "stdout",
          "text": [
            "<class 'pandas.core.frame.DataFrame'>\n",
            "RangeIndex: 300 entries, 0 to 299\n",
            "Data columns (total 2 columns):\n",
            " #   Column  Non-Null Count  Dtype  \n",
            "---  ------  --------------  -----  \n",
            " 0   x       300 non-null    int64  \n",
            " 1   y       300 non-null    float64\n",
            "dtypes: float64(1), int64(1)\n",
            "memory usage: 4.8 KB\n"
          ]
        }
      ],
      "source": [
        "test.info()"
      ]
    },
    {
      "cell_type": "markdown",
      "id": "ea0b47f2",
      "metadata": {
        "id": "ea0b47f2"
      },
      "source": [
        "Removing null values"
      ]
    },
    {
      "cell_type": "code",
      "execution_count": 8,
      "id": "3d3804cd",
      "metadata": {
        "id": "3d3804cd"
      },
      "outputs": [],
      "source": [
        "imputer = SimpleImputer(missing_values=np.nan,strategy=\"mean\")\n",
        "imputer.fit(train)\n",
        "train = pd.DataFrame(imputer.transform(train),columns=('x','y'))"
      ]
    },
    {
      "cell_type": "code",
      "execution_count": 9,
      "id": "8fdf135f",
      "metadata": {
        "id": "8fdf135f"
      },
      "outputs": [],
      "source": [
        "X_train = train.iloc[:,0:1].values\n",
        "y_train = train.iloc[:,-1].values\n",
        "X_test = test.iloc[:,0:1].values\n",
        "y_test = test.iloc[:,-1].values"
      ]
    },
    {
      "cell_type": "markdown",
      "id": "8e679099",
      "metadata": {
        "id": "8e679099"
      },
      "source": [
        "Generate regressor and fit the data"
      ]
    },
    {
      "cell_type": "code",
      "execution_count": 10,
      "id": "4c47e087",
      "metadata": {
        "id": "4c47e087",
        "outputId": "6f689304-d56f-4f83-9262-1f93d4716308",
        "colab": {
          "base_uri": "https://localhost:8080/"
        }
      },
      "outputs": [
        {
          "output_type": "execute_result",
          "data": {
            "text/plain": [
              "LinearRegression()"
            ]
          },
          "metadata": {},
          "execution_count": 10
        }
      ],
      "source": [
        "regressor = LinearRegression()\n",
        "regressor.fit(X_train,y_train)"
      ]
    },
    {
      "cell_type": "markdown",
      "id": "6a41d2f8",
      "metadata": {
        "id": "6a41d2f8"
      },
      "source": [
        "Plotting the training data"
      ]
    },
    {
      "cell_type": "code",
      "execution_count": 13,
      "id": "fb279dbb",
      "metadata": {
        "id": "fb279dbb",
        "outputId": "fc47b1cf-9f04-456d-fc4a-fa9f75821d1a",
        "colab": {
          "base_uri": "https://localhost:8080/",
          "height": 282
        }
      },
      "outputs": [
        {
          "output_type": "execute_result",
          "data": {
            "text/plain": [
              "[<matplotlib.lines.Line2D at 0x7f5c19537400>]"
            ]
          },
          "metadata": {},
          "execution_count": 13
        },
        {
          "output_type": "display_data",
          "data": {
            "text/plain": [
              "<Figure size 432x288 with 1 Axes>"
            ],
            "image/png": "[encoded data removed]"
          },
          "metadata": {
            "needs_background": "light"
          }
        }
      ],
      "source": [
        "plt.plot(X_train,y_train)"
      ]
    },
    {
      "cell_type": "markdown",
      "id": "9848e884",
      "metadata": {
        "id": "9848e884"
      },
      "source": [
        "Plotting the testing data"
      ]
    },
    {
      "cell_type": "code",
      "execution_count": 12,
      "id": "51946830",
      "metadata": {
        "id": "51946830",
        "outputId": "2ad0838a-2726-4ea3-a6e8-4aa334375d71",
        "colab": {
          "base_uri": "https://localhost:8080/",
          "height": 282
        }
      },
      "outputs": [
        {
          "output_type": "execute_result",
          "data": {
            "text/plain": [
              "[<matplotlib.lines.Line2D at 0x7f5c195779d0>]"
            ]
          },
          "metadata": {},
          "execution_count": 12
        },
        {
          "output_type": "display_data",
          "data": {
            "text/plain": [
              "<Figure size 432x288 with 1 Axes>"
            ],
            "image/png": "[encoded data removed]"
          },
          "metadata": {
            "needs_background": "light"
          }
        }
      ],
      "source": [
        "plt.plot(X_test,y_test)"
      ]
    },
    {
      "cell_type": "markdown",
      "id": "44845a74",
      "metadata": {
        "id": "44845a74"
      },
      "source": [
        "Doing this, you will get some unexpected graphics!\n",
        "Because there is a value too high and must be deleted"
      ]
    },
    {
      "cell_type": "code",
      "execution_count": 18,
      "id": "823ec3d3",
      "metadata": {
        "id": "823ec3d3",
        "outputId": "a4ef26bd-5fb5-4c31-e553-b5192affcb0e",
        "colab": {
          "base_uri": "https://localhost:8080/"
        }
      },
      "outputs": [
        {
          "output_type": "stream",
          "name": "stdout",
          "text": [
            "index = 213 & max value = [3530.15736917]\n"
          ]
        }
      ],
      "source": [
        "# Hint: Run a loop to find the index of max vlaue\n",
        "max = X_train[0]\n",
        "index = 0\n",
        "for i in range(1,len(X_train)):\n",
        "  if X_train[i]>max:\n",
        "    max=X_train[i]\n",
        "    index = i \n",
        "print(f'index = {index} & max value = {max}')"
      ]
    },
    {
      "cell_type": "markdown",
      "id": "cdf72719",
      "metadata": {
        "id": "cdf72719"
      },
      "source": [
        "Now we should delete the index of max value to make data more fit"
      ]
    },
    {
      "cell_type": "code",
      "execution_count": 19,
      "id": "af2a0d0c",
      "metadata": {
        "id": "af2a0d0c",
        "outputId": "38162798-c6e1-492f-fd52-424fa6fe9dee",
        "colab": {
          "base_uri": "https://localhost:8080/"
        }
      },
      "outputs": [
        {
          "output_type": "execute_result",
          "data": {
            "text/plain": [
              "LinearRegression()"
            ]
          },
          "metadata": {},
          "execution_count": 19
        }
      ],
      "source": [
        "train.drop(213,axis=0,inplace=True) # fill the index\n",
        "X_train = train.iloc[:,0:1].values\n",
        "y_train = train.iloc[:,-1].values\n",
        "regressor = LinearRegression()\n",
        "regressor.fit(X_train,y_train)"
      ]
    },
    {
      "cell_type": "markdown",
      "id": "c4861b98",
      "metadata": {
        "id": "c4861b98"
      },
      "source": [
        "Again,Plotting the training data"
      ]
    },
    {
      "cell_type": "code",
      "execution_count": 20,
      "id": "ab7af5ea",
      "metadata": {
        "id": "ab7af5ea",
        "outputId": "ed150a41-4646-4757-c10c-e64d8b06ca71",
        "colab": {
          "base_uri": "https://localhost:8080/",
          "height": 282
        }
      },
      "outputs": [
        {
          "output_type": "execute_result",
          "data": {
            "text/plain": [
              "[<matplotlib.lines.Line2D at 0x7f5c177ebb80>]"
            ]
          },
          "metadata": {},
          "execution_count": 20
        },
        {
          "output_type": "display_data",
          "data": {
            "text/plain": [
              "<Figure size 432x288 with 1 Axes>"
            ],
            "image/png": "[encoded data removed]"
          },
          "metadata": {
            "needs_background": "light"
          }
        }
      ],
      "source": [
        "plt.plot(X_train,y_train)"
      ]
    },
    {
      "cell_type": "markdown",
      "id": "d6d9c891",
      "metadata": {
        "id": "d6d9c891"
      },
      "source": [
        "Again,Plotting the testing data"
      ]
    },
    {
      "cell_type": "code",
      "execution_count": 21,
      "id": "379909cf",
      "metadata": {
        "id": "379909cf",
        "outputId": "212d5e4d-f81d-4897-8169-bbbd2f2e9af7",
        "colab": {
          "base_uri": "https://localhost:8080/",
          "height": 282
        }
      },
      "outputs": [
        {
          "output_type": "execute_result",
          "data": {
            "text/plain": [
              "[<matplotlib.lines.Line2D at 0x7f5c17886f40>]"
            ]
          },
          "metadata": {},
          "execution_count": 21
        },
        {
          "output_type": "display_data",
          "data": {
            "text/plain": [
              "<Figure size 432x288 with 1 Axes>"
            ],
            "image/png": "[encoded data removed]"
          },
          "metadata": {
            "needs_background": "light"
          }
        }
      ],
      "source": [
        "plt.plot(X_test,y_test)"
      ]
    },
    {
      "cell_type": "code",
      "source": [],
      "metadata": {
        "id": "04Pwkl7N-IV1"
      },
      "id": "04Pwkl7N-IV1",
      "execution_count": null,
      "outputs": []
    }
  ],
  "metadata": {
    "kernelspec": {
      "display_name": "Python 3 (ipykernel)",
      "language": "python",
      "name": "python3"
    },
    "language_info": {
      "codemirror_mode": {
        "name": "ipython",
        "version": 3
      },
      "file_extension": ".py",
      "mimetype": "text/x-python",
      "name": "python",
      "nbconvert_exporter": "python",
      "pygments_lexer": "ipython3",
      "version": "3.9.13"
    },
    "colab": {
      "provenance": [],
      "include_colab_link": true
    }
  },
  "nbformat": 4,
  "nbformat_minor": 5
}
